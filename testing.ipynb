{
 "cells": [
  {
   "cell_type": "code",
   "execution_count": 15,
   "metadata": {},
   "outputs": [],
   "source": [
    "import torch\n",
    "import torch.nn as nn\n",
    "import torch.nn.functional as F\n",
    "from torch.utils.data import TensorDataset, DataLoader\n",
    "\n",
    "\n",
    "from torchtext.datasets import WikiText2\n",
    "from torchtext.vocab import build_vocab_from_iterator\n",
    "import torchtext.data.utils as ttdutils\n",
    "\n",
    "\n",
    "# import bert \n"
   ]
  },
  {
   "cell_type": "code",
   "execution_count": 16,
   "metadata": {},
   "outputs": [],
   "source": [
    "train_iter = WikiText2(root=\"./data\", split=\"train\")\n",
    "tokenizer = ttdutils.get_tokenizer(\"basic_english\")\n",
    "vocab = build_vocab_from_iterator(map(tokenizer, train_iter), specials=[\"<unk>\"])\n",
    "vocab.set_default_index(vocab[\"<unk>\"])"
   ]
  },
  {
   "cell_type": "code",
   "execution_count": 17,
   "metadata": {},
   "outputs": [],
   "source": [
    "# for i, item in enumerate(train_iter):\n",
    "#     if i == 0:\n",
    "#         print(item)\n",
    "#         print(tokenizer(item))\n",
    "#         print(vocab(tokenizer(item)))\n",
    "#         break\n",
    "\n",
    "data = [torch.LongTensor([vocab(tokenizer(item))]) for item in train_iter]\n",
    "data = tuple(filter(lambda x: x.numel() > 0, data))\n",
    "data = torch.cat(data, dim=1)\n",
    "# # dataset = \n"
   ]
  },
  {
   "cell_type": "code",
   "execution_count": 18,
   "metadata": {},
   "outputs": [],
   "source": [
    "data.shape\n",
    "\n",
    "dataset = TensorDataset(data)"
   ]
  }
 ],
 "metadata": {
  "kernelspec": {
   "display_name": "Python 3.10.8 64-bit",
   "language": "python",
   "name": "python3"
  },
  "language_info": {
   "codemirror_mode": {
    "name": "ipython",
    "version": 3
   },
   "file_extension": ".py",
   "mimetype": "text/x-python",
   "name": "python",
   "nbconvert_exporter": "python",
   "pygments_lexer": "ipython3",
   "version": "3.10.8"
  },
  "orig_nbformat": 4,
  "vscode": {
   "interpreter": {
    "hash": "58b3ebf8dec169d8aec70c36b552225c97668c5e5a4c1d2a670fb746efb28189"
   }
  }
 },
 "nbformat": 4,
 "nbformat_minor": 2
}
