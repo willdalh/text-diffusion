{
 "cells": [
  {
   "cell_type": "code",
   "execution_count": 1,
   "metadata": {},
   "outputs": [
    {
     "name": "stderr",
     "output_type": "stream",
     "text": [
      "c:\\Users\\willd\\AppData\\Local\\Programs\\Python\\Python310\\lib\\site-packages\\tqdm\\auto.py:22: TqdmWarning: IProgress not found. Please update jupyter and ipywidgets. See https://ipywidgets.readthedocs.io/en/stable/user_install.html\n",
      "  from .autonotebook import tqdm as notebook_tqdm\n"
     ]
    }
   ],
   "source": [
    "import torch\n",
    "import torch.nn as nn\n",
    "import torch.nn.functional as F"
   ]
  },
  {
   "cell_type": "code",
   "execution_count": 3,
   "metadata": {},
   "outputs": [],
   "source": [
    "model = nn.TransformerEncoder(nn.TransformerEncoderLayer(d_model=228, nhead=12, dim_feedforward=1024, dropout=0.1, activation='gelu'), num_layers=6)"
   ]
  },
  {
   "cell_type": "code",
   "execution_count": 16,
   "metadata": {},
   "outputs": [
    {
     "name": "stdout",
     "output_type": "stream",
     "text": [
      "tensor([ 1.0828,  1.4765, -0.4304,  0.6351,  0.6051,  0.2458, -1.2490, -0.1538,\n",
      "         0.4436,  1.1535], grad_fn=<SliceBackward0>)\n",
      "tensor([ 1.2402,  1.4669, -0.6600,  1.0968,  1.2508,  0.5804, -2.0274,  0.0899,\n",
      "         0.6817,  1.5128], grad_fn=<SliceBackward0>)\n"
     ]
    }
   ],
   "source": [
    "data = torch.ones(3, 1, 228)\n",
    "out = model(data)\n",
    "\n",
    "print(out[0, 0, :10])\n",
    "\n",
    "sliced = data[0:2]\n",
    "\n",
    "out = model(sliced)\n",
    "\n",
    "print(out[0, 0, :10])"
   ]
  }
 ],
 "metadata": {
  "kernelspec": {
   "display_name": "Python 3.10.8 64-bit",
   "language": "python",
   "name": "python3"
  },
  "language_info": {
   "codemirror_mode": {
    "name": "ipython",
    "version": 3
   },
   "file_extension": ".py",
   "mimetype": "text/x-python",
   "name": "python",
   "nbconvert_exporter": "python",
   "pygments_lexer": "ipython3",
   "version": "3.10.8"
  },
  "orig_nbformat": 4,
  "vscode": {
   "interpreter": {
    "hash": "58b3ebf8dec169d8aec70c36b552225c97668c5e5a4c1d2a670fb746efb28189"
   }
  }
 },
 "nbformat": 4,
 "nbformat_minor": 2
}
