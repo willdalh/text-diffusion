{
 "cells": [
  {
   "cell_type": "code",
   "execution_count": 1,
   "metadata": {},
   "outputs": [
    {
     "name": "stderr",
     "output_type": "stream",
     "text": [
      "c:\\Users\\willd\\AppData\\Local\\Programs\\Python\\Python310\\lib\\site-packages\\tqdm\\auto.py:22: TqdmWarning: IProgress not found. Please update jupyter and ipywidgets. See https://ipywidgets.readthedocs.io/en/stable/user_install.html\n",
      "  from .autonotebook import tqdm as notebook_tqdm\n"
     ]
    }
   ],
   "source": [
    "from text_denoiser import TextDenoiser\n",
    "import torch"
   ]
  },
  {
   "cell_type": "code",
   "execution_count": 3,
   "metadata": {},
   "outputs": [
    {
     "data": {
      "text/plain": [
       "<All keys matched successfully>"
      ]
     },
     "execution_count": 3,
     "metadata": {},
     "output_type": "execute_result"
    }
   ],
   "source": [
    "device = torch.device(\"cuda\" if torch.cuda.is_available() else \"cpu\")\n",
    "denoiser = TextDenoiser()\n",
    "denoiser.load_state_dict(torch.load(\"../logs/train_test/models/saved_model.pt\", map_location=device))"
   ]
  },
  {
   "cell_type": "code",
   "execution_count": 17,
   "metadata": {},
   "outputs": [
    {
     "name": "stdout",
     "output_type": "stream",
     "text": [
      "tensor([-0.0084], grad_fn=<SumBackward1>)\n",
      "tensor([0.0070], grad_fn=<SumBackward1>)\n"
     ]
    }
   ],
   "source": [
    "texts = [\"shovel\", \"bucket\"]\n",
    "indices = torch.LongTensor(denoiser.vocab(texts)).to(device)\n",
    "\n",
    "denoiser.embedder(indices)\n",
    "# Cosine similarity between \"shovel\" and \"bucket\" embeddings\n",
    "print(torch.nn.functional.cosine_similarity(denoiser.embedder(indices[0:1]), denoiser.embedder(indices[1:2])))\n",
    "\n",
    "# Cosine similarity between \"shovel\" and \"king\" embeddings\n",
    "texts = [\"window\", \"king\"]\n",
    "indices = torch.LongTensor(denoiser.vocab(texts)).to(device)\n",
    "print(torch.nn.functional.cosine_similarity(denoiser.embedder(indices[0:1]), denoiser.embedder(indices[1:2])))\n"
   ]
  },
  {
   "cell_type": "code",
   "execution_count": 19,
   "metadata": {},
   "outputs": [
    {
     "data": {
      "text/plain": [
       "['s <unk> plan sketches spikes managed tiger 1800 their acquire']"
      ]
     },
     "execution_count": 19,
     "metadata": {},
     "output_type": "execute_result"
    }
   ],
   "source": [
    "denoiser.sample(device, 1, 10)"
   ]
  },
  {
   "cell_type": "code",
   "execution_count": 36,
   "metadata": {},
   "outputs": [
    {
     "name": "stderr",
     "output_type": "stream",
     "text": [
      "Some weights of the model checkpoint at bert-base-uncased were not used when initializing BertModel: ['cls.predictions.transform.dense.weight', 'cls.predictions.transform.LayerNorm.bias', 'cls.predictions.decoder.weight', 'cls.predictions.transform.LayerNorm.weight', 'cls.predictions.transform.dense.bias', 'cls.seq_relationship.bias', 'cls.predictions.bias', 'cls.seq_relationship.weight']\n",
      "- This IS expected if you are initializing BertModel from the checkpoint of a model trained on another task or with another architecture (e.g. initializing a BertForSequenceClassification model from a BertForPreTraining model).\n",
      "- This IS NOT expected if you are initializing BertModel from the checkpoint of a model that you expect to be exactly identical (initializing a BertForSequenceClassification model from a BertForSequenceClassification model).\n"
     ]
    }
   ],
   "source": [
    "from transformers import BertConfig, BertTokenizer, BertModel\n",
    "\n",
    "tokenizer = BertTokenizer.from_pretrained('bert-base-uncased')\n",
    "model = BertModel.from_pretrained('bert-base-uncased')"
   ]
  },
  {
   "cell_type": "code",
   "execution_count": 89,
   "metadata": {},
   "outputs": [
    {
     "name": "stdout",
     "output_type": "stream",
     "text": [
      "tensor(14.1941, grad_fn=<NormBackward1>)\n",
      "27.712812921102035\n"
     ]
    }
   ],
   "source": [
    "# Setup bert pipeline\n",
    "\n",
    "def get_embedding(text, model, tokenizer):\n",
    "    inputs = tokenizer(text, return_tensors=\"pt\")\n",
    "    outputs = model(**inputs)\n",
    "    return outputs[0]\n",
    "\n",
    "\n",
    "# text = \"shovel bucket\"\n",
    "# tokens = tokenizer.tokenize(text)\n",
    "# tokens = [\"[CLS]\"] + tokens + [\"[SEP]\"]\n",
    "\n",
    "# token_ids = tokenizer.convert_tokens_to_ids(tokens)\n",
    "# token_ids = torch.LongTensor(token_ids).unsqueeze(0)\n",
    "\n",
    "# with torch.no_grad():\n",
    "#     outputs = model(token_ids)\n",
    "#     last_hidden_states = outputs[0]\n",
    "\n",
    "# print(last_hidden_states[0, 1, 0:3])\n",
    "\n",
    "emb1 = get_embedding(\"Room\", model, tokenizer)\n",
    "emb2 = get_embedding(\"bathroom\", model, tokenizer)\n",
    "\n",
    "print(emb1[0, 1].norm())\n",
    "print(emb1.shape[-1] ** 0.5)\n",
    "\n",
    "# Cosine similarity between \"shovel\" and \"bucket\" embeddings\n",
    "# print(torch.nn.functional.cosine_similarity(last_hidden_states[0, 1:2], last_hidden_states[0, 2:3]))\n",
    "# print(model.get_output_embeddings())\n",
    "\n",
    "# Cosine similarity between embeddings\n",
    "# print(torch.nn.functional.cosine_similarity(emb1[0, 0:1], emb2[0, 0]))\n",
    "\n",
    "# inverse process: get text from embedding\n",
    "\n"
   ]
  }
 ],
 "metadata": {
  "kernelspec": {
   "display_name": "Python 3.10.8 64-bit",
   "language": "python",
   "name": "python3"
  },
  "language_info": {
   "codemirror_mode": {
    "name": "ipython",
    "version": 3
   },
   "file_extension": ".py",
   "mimetype": "text/x-python",
   "name": "python",
   "nbconvert_exporter": "python",
   "pygments_lexer": "ipython3",
   "version": "3.10.8"
  },
  "orig_nbformat": 4,
  "vscode": {
   "interpreter": {
    "hash": "58b3ebf8dec169d8aec70c36b552225c97668c5e5a4c1d2a670fb746efb28189"
   }
  }
 },
 "nbformat": 4,
 "nbformat_minor": 2
}
