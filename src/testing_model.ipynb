{
 "cells": [
  {
   "cell_type": "code",
   "execution_count": 1,
   "metadata": {},
   "outputs": [],
   "source": [
    "from text_denoiser import TextDenoiser\n",
    "import matplotlib.pyplot as plt\n",
    "import torch\n",
    "import torch.nn as nn\n",
    "import torch.nn.functional as F\n",
    "import numpy as np\n",
    "import os\n",
    "if os.getcwd().endswith(\"src\"):\n",
    "    os.chdir(\"..\")\n",
    "from torch.utils.data import DataLoader, TensorDataset\n",
    "from get_dataset_and_vocab import get_dataset_and_vocab\n",
    "from utils import text_collate_fn, read_glove_vectors"
   ]
  },
  {
   "cell_type": "code",
   "execution_count": 3,
   "metadata": {},
   "outputs": [
    {
     "name": "stdout",
     "output_type": "stream",
     "text": [
      "torch.Size([16, 8])\n",
      "torch.Size([16, 8])\n"
     ]
    }
   ],
   "source": [
    "device = torch.device(\"cuda\" if torch.cuda.is_available() else \"cpu\")\n",
    "denoiser = TextDenoiser.load_from_training_log(\"logs/train_test\", \"saved_model.pt\", device)\n",
    "denoiser.eval()\n",
    "print(denoiser.decoder.weight.shape)\n",
    "print(denoiser.embedder.weight.shape)\n",
    "# denoiser.decoder.weight = nn.Parameter(denoiser.embedder.weight)"
   ]
  },
  {
   "cell_type": "code",
   "execution_count": 4,
   "metadata": {},
   "outputs": [
    {
     "name": "stdout",
     "output_type": "stream",
     "text": [
      "minimal\n"
     ]
    }
   ],
   "source": [
    "dataset, vocab = get_dataset_and_vocab(\"minimal\", seq_len=4, line_slice=2000)\n",
    "dataloader = DataLoader(dataset, batch_size=2, shuffle=True, num_workers=1, collate_fn=text_collate_fn)"
   ]
  },
  {
   "cell_type": "code",
   "execution_count": 5,
   "metadata": {},
   "outputs": [],
   "source": [
    "x = next(iter(dataloader))"
   ]
  },
  {
   "cell_type": "markdown",
   "metadata": {},
   "source": [
    "## Reconstructing instances"
   ]
  },
  {
   "cell_type": "code",
   "execution_count": 6,
   "metadata": {},
   "outputs": [
    {
     "name": "stdout",
     "output_type": "stream",
     "text": [
      "torch.Size([4, 2])\n",
      "am sentient and am\n",
      "tensor([-0.5493,  1.3723, -0.0172], grad_fn=<SliceBackward0>)\n",
      "tensor([-0.5005,  1.7477,  0.4934])\n",
      "tensor([-0.3938,  0.7169,  0.8616])\n",
      "am the live you\n"
     ]
    }
   ],
   "source": [
    "print(x.shape)\n",
    "x_emb = denoiser.embedder(x)\n",
    "print(denoiser.emb_to_str(x_emb)[0])\n",
    "t_noised = 100\n",
    "ts = torch.LongTensor([t_noised]*x.shape[1]).to(device)\n",
    "stored = []\n",
    "print(x_emb[0, 0, 0:3])\n",
    "with torch.no_grad():\n",
    "    x_emb_noised, eps = denoiser.noise(x_emb, ts)\n",
    "    print(x_emb_noised[0, 0, 0:3])\n",
    "    x_t = x_emb_noised.clone()\n",
    "    for t in range(t_noised, 0, -1):\n",
    "        x_t = denoiser.sample_step(x_t, t)\n",
    "        stored.append(x_t[0, 0, 0].item())\n",
    "\n",
    "    # print(denoiser.emb_to_tokens(x_emb)[3])\n",
    "print(x_t[0, 0, 0:3])\n",
    "print(denoiser.emb_to_str(x_t)[0])\n",
    "\n"
   ]
  },
  {
   "cell_type": "code",
   "execution_count": 11,
   "metadata": {},
   "outputs": [
    {
     "name": "stdout",
     "output_type": "stream",
     "text": [
      "tensor(4.0811, grad_fn=<NormBackward1>)\n",
      "tensor(3.3641, grad_fn=<NormBackward1>)\n",
      "tensor([[-0.0382, -0.2449,  0.7281, -0.3996,  0.0832,  0.0440, -0.3914,  0.3344,\n",
      "         -0.5755,  0.0875,  0.2879, -0.0673,  0.3091, -0.2638, -0.1323, -0.2076,\n",
      "          0.3340, -0.3385, -0.3174, -0.4834,  0.1464, -0.3730,  0.3458,  0.0520,\n",
      "          0.4495, -0.4697,  0.0263, -0.5415, -0.1552, -0.1411, -0.0397,  0.2828,\n",
      "          0.1439,  0.2346, -0.3102,  0.0862,  0.2040,  0.5262,  0.1716, -0.0824,\n",
      "         -0.7179, -0.4153,  0.2033, -0.1276,  0.4137,  0.5519,  0.5791, -0.3348,\n",
      "         -0.3656, -0.5486, -0.0629,  0.2658,  0.3020,  0.9977, -0.8048, -3.0243,\n",
      "          0.0125, -0.3694,  2.2167,  0.7220, -0.2498,  0.9214,  0.0345,  0.4674,\n",
      "          1.1079, -0.1936, -0.0746,  0.2335, -0.0521, -0.2204,  0.0572, -0.1581,\n",
      "         -0.3080, -0.4162,  0.3797,  0.1501, -0.5321, -0.2055, -1.2526,  0.0716,\n",
      "          0.7056,  0.4974, -0.4206,  0.2615, -1.5380, -0.3022, -0.0734, -0.2831,\n",
      "          0.3710, -0.2522,  0.0162, -0.0171, -0.3898,  0.8742, -0.7257, -0.5106,\n",
      "         -0.5203, -0.1459,  0.8278,  0.2706]], grad_fn=<EmbeddingBackward0>)\n"
     ]
    },
    {
     "data": {
      "text/plain": [
       "[<matplotlib.lines.Line2D at 0x2e0b7974f10>]"
      ]
     },
     "execution_count": 11,
     "metadata": {},
     "output_type": "execute_result"
    },
    {
     "data": {
      "image/png": "[encoded data removed]",
      "text/plain": [
       "<Figure size 432x288 with 1 Axes>"
      ]
     },
     "metadata": {
      "needs_background": "light"
     },
     "output_type": "display_data"
    }
   ],
   "source": [
    "test_emb = denoiser.embedder(torch.LongTensor([denoiser.vocab[\"the\"]]))\n",
    "print(test_emb)\n",
    "\n",
    "# denoiser.vocab[\".\"]\n",
    "plt.plot(stored)\n",
    "\n"
   ]
  },
  {
   "cell_type": "code",
   "execution_count": 7,
   "metadata": {},
   "outputs": [
    {
     "name": "stdout",
     "output_type": "stream",
     "text": [
      "Found 9989 out of 10053 words in GloVe\n"
     ]
    }
   ],
   "source": [
    "embeddings = read_glove_vectors(\"resources/glove.6B.100d.txt\", vocab, 100)\n",
    "\n"
   ]
  },
  {
   "cell_type": "code",
   "execution_count": 17,
   "metadata": {},
   "outputs": [
    {
     "name": "stdout",
     "output_type": "stream",
     "text": [
      "False\n"
     ]
    }
   ],
   "source": []
  },
  {
   "cell_type": "code",
   "execution_count": 3,
   "metadata": {},
   "outputs": [
    {
     "name": "stdout",
     "output_type": "stream",
     "text": [
      "tensor([ 0.,  1.,  2.,  3.,  4.,  5.,  6.,  7.,  8.,  9., 10., 11., 12., 13.,\n",
      "        14., 15., 16., 17., 18., 19., 20., 21., 22., 23., 24., 25., 26., 27.,\n",
      "        28., 29., 30., 31., 32., 33., 34., 35., 36., 37., 38., 39.])\n",
      "tensor([ 1, 11])\n",
      "tensor([[[1., 1., 1.],\n",
      "         [1., 1., 1.]],\n",
      "\n",
      "        [[1., 1., 1.],\n",
      "         [1., 1., 1.]],\n",
      "\n",
      "        [[1., 1., 1.],\n",
      "         [1., 1., 1.]],\n",
      "\n",
      "        [[1., 1., 1.],\n",
      "         [1., 1., 1.]]])\n"
     ]
    }
   ],
   "source": [
    "n_T = 40\n",
    "data = torch.ones(4, 2, 3)\n",
    "factor = torch.linspace(0, n_T-1, n_T)\n",
    "ts = torch.randint(0, n_T, (data.shape[1],))\n",
    "print(factor)\n",
    "print(ts)\n",
    "print(data)\n",
    "data = data * factor[None, ts, None]\n",
    "# print(data[:, 1, :].mean())\n",
    "# print(data[:, 1,:])\n",
    "\n"
   ]
  },
  {
   "cell_type": "code",
   "execution_count": 6,
   "metadata": {},
   "outputs": [
    {
     "name": "stdout",
     "output_type": "stream",
     "text": [
      "['you', 'not', '<unk>', 'sentient', 'world']\n",
      "torch.Size([5, 16])\n",
      "tensor([ 6,  9,  3, 15,  9])\n",
      "['in', 'not', 'and', 'you', 'not']\n",
      "[15, 9, 0, 10, 14]\n"
     ]
    }
   ],
   "source": [
    "texts = denoiser.vocab.lookup_tokens(torch.randint(0, len(denoiser.vocab), (5,)).tolist())\n",
    "print(texts)\n",
    "indices = torch.LongTensor(denoiser.vocab(texts)).to(device)\n",
    "\n",
    "embeds = denoiser.embedder(indices)\n",
    "embeds.shape\n",
    "\n",
    "decoded = denoiser.decoder(embeds)\n",
    "print(decoded.shape)\n",
    "new_indices = torch.argmax(F.softmax(decoded, dim=-1), dim=-1)\n",
    "print(new_indices)\n",
    "print(denoiser.vocab.lookup_tokens(new_indices.tolist()))\n",
    "\n",
    "print(denoiser.vocab(texts))\n"
   ]
  },
  {
   "cell_type": "markdown",
   "metadata": {},
   "source": [
    "### Validating that cross entropy is calculated correctly"
   ]
  },
  {
   "cell_type": "code",
   "execution_count": 7,
   "metadata": {},
   "outputs": [
    {
     "name": "stdout",
     "output_type": "stream",
     "text": [
      "indices shape: torch.Size([128, 64])\n",
      "decoded shape: torch.Size([128, 64, 10053])\n",
      "tensor(0.0004, grad_fn=<NllLoss2DBackward0>)\n",
      "tensor(0.0004, grad_fn=<NllLoss2DBackward0>)\n"
     ]
    }
   ],
   "source": [
    "batch_size = 64\n",
    "seq_len = 128\n",
    "indices = torch.randint(0, len(denoiser.vocab), (seq_len, batch_size))\n",
    "embeds = denoiser.embedder(indices)\n",
    "embeds.shape\n",
    "\n",
    "decoded = denoiser.decoder(embeds)\n",
    "# decoded = torch.randn(seq_len, batch_size, len(denoiser.vocab))\n",
    "print(\"indices shape:\", indices.shape)\n",
    "print(\"decoded shape:\", decoded.shape)\n",
    "\n",
    "# Calculate cross entropy loss\n",
    "# print(decoded.permute(0, 2, 1).shape)\n",
    "loss = F.cross_entropy(decoded.permute(1, 2, 0), indices.T)\n",
    "print(loss)\n",
    "\n",
    "\n",
    "y = F.log_softmax(decoded, dim=-1).permute(0, 2, 1)\n",
    "reconstruction_loss = F.cross_entropy(y, indices)\n",
    "print(reconstruction_loss)"
   ]
  },
  {
   "cell_type": "code",
   "execution_count": 8,
   "metadata": {},
   "outputs": [
    {
     "data": {
      "text/plain": [
       "['of the the the the the community the a of of the the of of the']"
      ]
     },
     "execution_count": 8,
     "metadata": {},
     "output_type": "execute_result"
    }
   ],
   "source": [
    "denoiser.sample(device, 1, 16)"
   ]
  },
  {
   "cell_type": "code",
   "execution_count": 17,
   "metadata": {},
   "outputs": [],
   "source": [
    "denoiser.eval()\n",
    "seq_len = 16\n",
    "n = 1\n",
    "intermediates = []\n",
    "with torch.no_grad():\n",
    "    x = torch.randn((seq_len, n, denoiser.embed_dim), device=device)\n",
    "    for t in range(denoiser.n_T, 0, -1):\n",
    "        x = denoiser.sample_step(x, t)\n",
    "        if t % 100 == 0 or t == 1:\n",
    "            intermediates.append(x)\n",
    "\n"
   ]
  },
  {
   "cell_type": "code",
   "execution_count": 25,
   "metadata": {},
   "outputs": [
    {
     "name": "stdout",
     "output_type": "stream",
     "text": [
      "tensor([0.0495], grad_fn=<SumBackward1>)\n",
      "tensor([0.2288], grad_fn=<SumBackward1>)\n",
      "tensor([0.4992], grad_fn=<SumBackward1>)\n",
      "tensor([0.7436], grad_fn=<SumBackward1>)\n",
      "tensor([0.9075], grad_fn=<SumBackward1>)\n",
      "tensor([0.9684], grad_fn=<SumBackward1>)\n",
      "tensor([0.9856], grad_fn=<SumBackward1>)\n",
      "tensor([0.9943], grad_fn=<SumBackward1>)\n",
      "tensor([0.9978], grad_fn=<SumBackward1>)\n",
      "tensor([0.9994], grad_fn=<SumBackward1>)\n",
      "tensor([0.9999], grad_fn=<SumBackward1>)\n"
     ]
    }
   ],
   "source": [
    "stacked = torch.stack(intermediates, dim=0)\n",
    "stacked.shape\n",
    "arbitrary_word_emb = denoiser.embedder(torch.LongTensor(denoiser.vocab([\"of\"])).to(device))\n",
    "\n",
    "for x_i in stacked:\n",
    "    # print(x_i.shape)\n",
    "    print(F.cosine_similarity(x_i[0], arbitrary_word_emb, dim=-1))\n"
   ]
  },
  {
   "cell_type": "code",
   "execution_count": 30,
   "metadata": {},
   "outputs": [
    {
     "name": "stdout",
     "output_type": "stream",
     "text": [
      "torch.Size([16, 1, 10053])\n",
      "torch.Size([16])\n",
      "be to . by that = as that with that is were were as is that\n",
      "torch.Size([16, 1, 10053])\n",
      "torch.Size([16])\n",
      "be as real and itself were over that this and team to this around was before\n",
      "torch.Size([16, 1, 10053])\n",
      "torch.Size([16])\n",
      "see as 80 up = from arms name god be but <unk> more are team not\n",
      "torch.Size([16, 1, 10053])\n",
      "torch.Size([16])\n",
      "uses to @ from , an in the a became which <unk> they consists , october\n",
      "torch.Size([16, 1, 10053])\n",
      "torch.Size([16])\n",
      "of of their this in including in in of as in of in and in as\n",
      "torch.Size([16, 1, 10053])\n",
      "torch.Size([16])\n",
      "of of on been in . in in of act in of in in in and\n",
      "torch.Size([16, 1, 10053])\n",
      "torch.Size([16])\n",
      "of of jordan of in s in in of of in of in in in of\n",
      "torch.Size([16, 1, 10053])\n",
      "torch.Size([16])\n",
      "of of jordan of in of in in of of in of in in in of\n",
      "torch.Size([16, 1, 10053])\n",
      "torch.Size([16])\n",
      "of of in of in of in in of of in of in in in of\n",
      "torch.Size([16, 1, 10053])\n",
      "torch.Size([16])\n",
      "of of in of in of in in of of in of in in in of\n",
      "torch.Size([16, 1, 10053])\n",
      "torch.Size([16])\n",
      "of of in of in of in in of of in of in in in of\n"
     ]
    }
   ],
   "source": [
    "\n",
    "batch_select = 0\n",
    "for x_i in stacked:\n",
    "    probs = F.softmax(denoiser.decoder(x_i), dim=-1)\n",
    "    print(probs.shape)\n",
    "    indices = indices = torch.multinomial(probs[:, batch_select], 1)[:, 0]\n",
    "    print(indices.shape)\n",
    "    # indices = denoiser.emb_to_indices(x_i)[:, batch_select]\n",
    "    tokens = denoiser.vocab.lookup_tokens(indices.tolist())\n",
    "    print(\" \".join(tokens))\n",
    "    # probs[Dennis]"
   ]
  },
  {
   "cell_type": "code",
   "execution_count": 28,
   "metadata": {},
   "outputs": [
    {
     "data": {
      "text/plain": [
       "tensor([0.0077], grad_fn=<SumBackward1>)"
      ]
     },
     "execution_count": 28,
     "metadata": {},
     "output_type": "execute_result"
    }
   ],
   "source": [
    "words = [\"in\", \"of\", \"the\", \",\", \"mario\", \"peach\"]\n",
    "indices = torch.LongTensor(denoiser.vocab(words)).to(device)\n",
    "embeds = denoiser.embedder(indices)\n",
    "F.cosine_similarity(embeds[None, words.index(\"mario\")], embeds[None, words.index(\"peach\")])\n"
   ]
  },
  {
   "cell_type": "markdown",
   "metadata": {},
   "source": [
    "## BERT TESTING"
   ]
  },
  {
   "cell_type": "code",
   "execution_count": 36,
   "metadata": {},
   "outputs": [
    {
     "name": "stderr",
     "output_type": "stream",
     "text": [
      "Some weights of the model checkpoint at bert-base-uncased were not used when initializing BertModel: ['cls.predictions.transform.dense.weight', 'cls.predictions.transform.LayerNorm.bias', 'cls.predictions.decoder.weight', 'cls.predictions.transform.LayerNorm.weight', 'cls.predictions.transform.dense.bias', 'cls.seq_relationship.bias', 'cls.predictions.bias', 'cls.seq_relationship.weight']\n",
      "- This IS expected if you are initializing BertModel from the checkpoint of a model trained on another task or with another architecture (e.g. initializing a BertForSequenceClassification model from a BertForPreTraining model).\n",
      "- This IS NOT expected if you are initializing BertModel from the checkpoint of a model that you expect to be exactly identical (initializing a BertForSequenceClassification model from a BertForSequenceClassification model).\n"
     ]
    }
   ],
   "source": [
    "from transformers import BertConfig, BertTokenizer, BertModel\n",
    "\n",
    "tokenizer = BertTokenizer.from_pretrained('bert-base-uncased')\n",
    "model = BertModel.from_pretrained('bert-base-uncased')"
   ]
  },
  {
   "cell_type": "code",
   "execution_count": 97,
   "metadata": {},
   "outputs": [
    {
     "name": "stdout",
     "output_type": "stream",
     "text": [
      "tensor(15.0457, grad_fn=<NormBackward1>)\n",
      "27.712812921102035\n",
      "[101, 7592, 1045, 1005, 1049, 1996, 2047, 2332, 102]\n"
     ]
    },
    {
     "data": {
      "text/plain": [
       "\"[CLS] hello i ' m the new king [SEP]\""
      ]
     },
     "execution_count": 97,
     "metadata": {},
     "output_type": "execute_result"
    }
   ],
   "source": [
    "# Setup bert pipeline\n",
    "\n",
    "def get_embedding(text, model, tokenizer):\n",
    "    inputs = tokenizer(text, return_tensors=\"pt\")\n",
    "    outputs = model(**inputs)\n",
    "    return outputs[0]\n",
    "\n",
    "\n",
    "# text = \"shovel bucket\"\n",
    "# tokens = tokenizer.tokenize(text)\n",
    "# tokens = [\"[CLS]\"] + tokens + [\"[SEP]\"]\n",
    "\n",
    "# token_ids = tokenizer.convert_tokens_to_ids(tokens)\n",
    "# token_ids = torch.LongTensor(token_ids).unsqueeze(0)\n",
    "\n",
    "# with torch.no_grad():\n",
    "#     outputs = model(token_ids)\n",
    "#     last_hidden_states = outputs[0]\n",
    "\n",
    "# print(last_hidden_states[0, 1, 0:3])\n",
    "\n",
    "emb1 = get_embedding(\"\", model, tokenizer)\n",
    "emb2 = get_embedding(\"bathroom\", model, tokenizer)\n",
    "\n",
    "print(emb1[0, 1].norm())\n",
    "print(emb1.shape[-1] ** 0.5)\n",
    "\n",
    "# Cosine similarity between \"shovel\" and \"bucket\" embeddings\n",
    "# print(torch.nn.functional.cosine_similarity(last_hidden_states[0, 1:2], last_hidden_states[0, 2:3]))\n",
    "# print(model.get_output_embeddings())\n",
    "\n",
    "# Cosine similarity between embeddings\n",
    "# print(torch.nn.functional.cosine_similarity(emb1[0, 0:1], emb2[0, 0]))\n",
    "\n",
    "# inverse process: get text from embedding\n",
    "tokens = tokenizer(\"Hello I'm the new king\")[\"input_ids\"]\n",
    "print(tokens)\n",
    "tokenizer.convert_tokens_to_string(tokenizer.convert_ids_to_tokens(tokens))\n",
    "\n"
   ]
  }
 ],
 "metadata": {
  "kernelspec": {
   "display_name": "Python 3.10.8 64-bit",
   "language": "python",
   "name": "python3"
  },
  "language_info": {
   "codemirror_mode": {
    "name": "ipython",
    "version": 3
   },
   "file_extension": ".py",
   "mimetype": "text/x-python",
   "name": "python",
   "nbconvert_exporter": "python",
   "pygments_lexer": "ipython3",
   "version": "3.10.8"
  },
  "orig_nbformat": 4,
  "vscode": {
   "interpreter": {
    "hash": "58b3ebf8dec169d8aec70c36b552225c97668c5e5a4c1d2a670fb746efb28189"
   }
  }
 },
 "nbformat": 4,
 "nbformat_minor": 2
}
