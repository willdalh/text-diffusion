{
 "cells": [
  {
   "cell_type": "code",
   "execution_count": 1,
   "metadata": {},
   "outputs": [],
   "source": [
    "import torch\n",
    "from get_dataset_and_vocab import get_dataset_and_vocab\n",
    "from torch.utils.data import DataLoader\n",
    "import os\n",
    "os.chdir(\"../.\")"
   ]
  },
  {
   "cell_type": "code",
   "execution_count": 14,
   "metadata": {},
   "outputs": [
    {
     "name": "stdout",
     "output_type": "stream",
     "text": [
      "minimal\n",
      "16\n",
      "11\n",
      "tensor([[15, 12,  4,  5,  9,  3, 13, 14],\n",
      "        [ 4, 14,  9,  2, 12, 15,  8, 13],\n",
      "        [ 9, 13, 12, 10, 14,  4,  6,  8],\n",
      "        [12,  8, 14,  3, 13,  9,  7,  6]])\n",
      "torch.Size([4, 8])\n",
      "['you', 'are', 'not', 'the']\n"
     ]
    }
   ],
   "source": [
    "dataset, vocab = get_dataset_and_vocab(\"minimal\", seq_len=4, line_slice=None)\n",
    "\n",
    "def collate_fn(batch):\n",
    "    return torch.stack(batch, dim=1)\n",
    "dataloader = DataLoader(dataset, batch_size=8, shuffle=True, collate_fn=collate_fn)\n",
    "print(len(vocab))\n",
    "print(len(dataset))\n",
    "\n",
    "for batch in dataloader:\n",
    "    print(batch)\n",
    "    print(batch.shape)\n",
    "    print(vocab.lookup_tokens(batch[:, 0].tolist()))\n",
    "    break\n"
   ]
  }
 ],
 "metadata": {
  "kernelspec": {
   "display_name": "Python 3.10.8 64-bit",
   "language": "python",
   "name": "python3"
  },
  "language_info": {
   "codemirror_mode": {
    "name": "ipython",
    "version": 3
   },
   "file_extension": ".py",
   "mimetype": "text/x-python",
   "name": "python",
   "nbconvert_exporter": "python",
   "pygments_lexer": "ipython3",
   "version": "3.10.8"
  },
  "orig_nbformat": 4,
  "vscode": {
   "interpreter": {
    "hash": "58b3ebf8dec169d8aec70c36b552225c97668c5e5a4c1d2a670fb746efb28189"
   }
  }
 },
 "nbformat": 4,
 "nbformat_minor": 2
}
