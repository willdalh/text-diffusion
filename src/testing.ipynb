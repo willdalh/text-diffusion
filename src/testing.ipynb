{
 "cells": [
  {
   "cell_type": "code",
   "execution_count": 1,
   "metadata": {},
   "outputs": [
    {
     "name": "stderr",
     "output_type": "stream",
     "text": [
      "c:\\Users\\willd\\AppData\\Local\\Programs\\Python\\Python310\\lib\\site-packages\\tqdm\\auto.py:22: TqdmWarning: IProgress not found. Please update jupyter and ipywidgets. See https://ipywidgets.readthedocs.io/en/stable/user_install.html\n",
      "  from .autonotebook import tqdm as notebook_tqdm\n"
     ]
    }
   ],
   "source": [
    "import torch\n",
    "import torch.nn as nn\n",
    "import torch.nn.functional as F\n",
    "from torch.utils.data import TensorDataset, DataLoader\n",
    "\n",
    "from torchtext.datasets import WikiText2\n",
    "from torchtext.vocab import build_vocab_from_iterator\n",
    "import torchtext.data.utils as ttdutils\n",
    "\n",
    "\n",
    "from text_dataset import TextDataset\n"
   ]
  },
  {
   "cell_type": "code",
   "execution_count": 2,
   "metadata": {},
   "outputs": [
    {
     "data": {
      "text/plain": [
       "10053"
      ]
     },
     "execution_count": 2,
     "metadata": {},
     "output_type": "execute_result"
    }
   ],
   "source": [
    "train_iter = WikiText2(root=\"../data\", split=\"train\")\n",
    "# slice to 30 lines\n",
    "train_iter = list(train_iter)[:2000]\n",
    "tokenizer = ttdutils.get_tokenizer(\"basic_english\")\n",
    "vocab = build_vocab_from_iterator(map(tokenizer, train_iter), specials=[\"<unk>\"])\n",
    "vocab.set_default_index(vocab[\"<unk>\"])\n",
    "len(vocab)"
   ]
  },
  {
   "cell_type": "code",
   "execution_count": 3,
   "metadata": {},
   "outputs": [
    {
     "data": {
      "text/plain": [
       "torch.Size([117249])"
      ]
     },
     "execution_count": 3,
     "metadata": {},
     "output_type": "execute_result"
    }
   ],
   "source": [
    "data = [torch.LongTensor([vocab(tokenizer(item))]) for item in train_iter]\n",
    "data = tuple(filter(lambda x: x.numel() > 0, data))\n",
    "data = torch.cat(data, dim=1).squeeze(0)\n",
    "data.shape"
   ]
  },
  {
   "cell_type": "code",
   "execution_count": 17,
   "metadata": {},
   "outputs": [],
   "source": [
    "def collate_fn(batch):\n",
    "    return torch.stack(batch, dim=1)\n",
    "\n",
    "dataset = TextDataset(data, seq_len=32)\n",
    "dataloader = DataLoader(dataset, batch_size=128, shuffle=True, num_workers=0, collate_fn=collate_fn)\n"
   ]
  },
  {
   "cell_type": "code",
   "execution_count": 18,
   "metadata": {},
   "outputs": [
    {
     "name": "stdout",
     "output_type": "stream",
     "text": [
      "torch.Size([32])\n",
      "homes in the human world . there they inhabited the cult images , the statues that depicted deities and allowed humans to interact with them in temple rituals . this movement between\n",
      "torch.Size([32])\n",
      "1970s that this blend of technologies started to mature , resulting in the birth of the microlight movement . another milestone in the development of ga was the 1964 introduction of the\n",
      "torch.Size([32])\n",
      "building . the new museum ' s goal is to educate and inform visitors about the military history of arkansas , preserve the tower building , honor servicemen and <unk> of the\n",
      "torch.Size([32])\n",
      "operator must satisfy the caa that the physical conditions at the aerodrome , and its environs , are acceptable the scale of equipment , and facilities provided , are adequate for the\n",
      "torch.Size([32])\n",
      "seemed to satisfy the committee as nothing more was done for the time , and when a gold dollar was proposed again in 1846 , mckay ' s committee recommended against it\n",
      "torch.Size([32])\n",
      "obscure . the hieroglyphs that were used as <unk> and <unk> in writing these words show some of the traits that the egyptians connected with divinity . the most common of these\n",
      "torch.Size([32])\n",
      "renewal of the god ' s own life . personal interaction with the gods took many forms . people who wanted information or advice consulted oracles , run by temples , that\n",
      "torch.Size([32])\n",
      "the dictatorship and the dangers of absolute power will be remembered by a new generation . = = = writing and power = = = in her treatment of the novel ,\n",
      "torch.Size([32])\n",
      ") , the reagent is referred to as a stabilized ylide . these , similarly to sulfoxonium reagents , react much slower and are typically easier to prepare . these are limited\n",
      "torch.Size([32])\n",
      "citing a loss of desire to play the game . jordan later stated that the murder of his father earlier in the year also shaped his decision . jordan ' s father\n",
      "torch.Size([32])\n",
      "general government or the annexed territories . the germans had almost certainly realized the full scale of the polish underground education system by about 1943 , but lacked the manpower to put\n",
      "torch.Size([32])\n",
      "traveling east of the banner – <unk> county line . this is expressed in terms of annual average daily traffic ( aadt ) , a measure of traffic volume for any average\n",
      "torch.Size([32])\n",
      "latter ship closed to within about 1 @ . @ 5 miles ( 2 @ . @ 4 km ) of the two union ships , she fired one round from her\n",
      "torch.Size([32])\n",
      "eras of egyptian history who was believed to avenge wrongdoing . egyptian texts take different views on whether the gods are responsible when humans suffer unjustly . <unk> was often seen as\n",
      "torch.Size([32])\n",
      "columbus and secure the number one draft pick for a third consecutive year . it was the fifth time that the blue jackets were dropped one draft position in the franchise '\n",
      "torch.Size([32])\n",
      "or goddesses . kings were said to be divine , although only a few continued to be worshipped long after their deaths . some non @-@ royal humans were said to have\n",
      "torch.Size([32])\n",
      "manual . he claimed that anybody who is politically active is filmed , identified , monitored , logged , and cross @-@ checked . a police <unk> into the operation at <unk>\n",
      "torch.Size([32])\n",
      "morning skate when a shot from colton <unk> hit him in the mask . with sanford again injured , york made an emergency start . playing against the detroit red wings ,\n",
      "torch.Size([32])\n",
      "and the embodiment of disorder within the world , was added to this group , which emphasized a single coherent vision of the pantheon . nine , the product of three and\n",
      "torch.Size([32])\n",
      "focus of this group was a review of the restrictions placed on unlicensed aerodromes . the group concluded that the requirement for public transport operations to be conducted only from licensed aerodromes\n",
      "torch.Size([32])\n",
      "was asked to compose the first telegraph dispatched from arkansas ' s capital . in his message , harrel reported unconfirmed rumors that more federal troops had been sent to reinforce the\n",
      "torch.Size([32])\n",
      "room at the back of the house . the family lived <unk> and attended both st . edmund ' s and st . andrew ' s in croydon – low churches for\n",
      "torch.Size([32])\n",
      "critical of both the decision reached and the approach used , with one suggesting that the substantial state interests test used in valenti v . rockefeller would be more appropriate . =\n",
      "torch.Size([32])\n",
      "calling for changes at the top . the same day the fans protested , it was announced that the franchise would host the 2013 all @-@ star game . columbus was without\n",
      "torch.Size([32])\n",
      "producer . she is best known for her work on the nbc sketch comedy series saturday night live ( 1998 @-@ 2006 ) , for her impression of former alaska governor and\n",
      "torch.Size([32])\n",
      "collectively called points . <unk> minutes are the total number of minutes assigned to a player for <unk> assessed during the <unk> @-@ minus is a statistic that tracks when a player\n",
      "torch.Size([32])\n",
      "the crumbling trujillo regime in 1961 by claiming she planned to study under the tutelage of nuns in michigan . in the following decades , she becomes a prominent and successful new\n",
      "torch.Size([32])\n",
      "of cotton preventing it from sinking entirely survivors were ferried to new york by the british brig swift , which had then been traveling toward st . john ' s , newfoundland\n",
      "torch.Size([32])\n",
      "records , but it started dimming when south of heaven came into the picture . and that ' s me personally . again , i was probably wanting something else . judas\n",
      "torch.Size([32])\n",
      "temple but still enclosed in a portable shrine . people did have less direct means of interaction . the more public parts of temples often incorporated small places for prayer , from\n",
      "torch.Size([32])\n",
      "the above summary of work and those for following months are that the standard ammunition made was . buck & ball , indicating that the . 69 caliber <unk> and shotguns remained\n",
      "torch.Size([32])\n",
      "cutting the utah lead to 86 – 85 . the jazz brought the ball <unk> and passed the ball to forward karl malone , who was set up in the low post\n",
      "torch.Size([32])\n",
      ". the gods are depicted in a finite number of these symbolic forms , so that deities can often be distinguished from one another by their iconographies . these forms include men\n",
      "torch.Size([32])\n",
      "the navy to their eventual rescue . my observation is that such activities remain vital for our relevance in that we must remain connected , supportive and responsive to the wants and\n",
      "torch.Size([32])\n",
      "basketball scholarship to north carolina , where he <unk> in cultural geography . = = college career = = as a freshman in coach dean smith ' s team @-@ oriented system\n",
      "torch.Size([32])\n",
      "was besieged by the end of the month , after madero ' s army encountered some resistance in the <unk> countryside . madero asked the commander of the city ' s garrison\n",
      "torch.Size([32])\n",
      "xiii , <unk> the <unk> <unk> <unk> <unk> , designated the second tower as the seat of the newly established vatican observatory , a decision which required altering the roof to provide\n",
      "torch.Size([32])\n",
      "polish theater ( and the virtual end of the polish radio and film industry ) , underground theaters were created , primarily in warsaw and kraków , with shows presented in various\n",
      "torch.Size([32])\n",
      "topics of frequent discussion among reviewers . in 2011 bernard <unk> , author of the 1978 non @-@ fiction book trujillo . the death of the goat , accused vargas @-@ llosa\n",
      "torch.Size([32])\n",
      "up by that of foreign ones . instead , greek and roman gods were adopted as manifestations of egyptian ones . egyptian cults sometimes incorporated greek language , philosophy , iconography ,\n",
      "torch.Size([32])\n",
      "to forget these things while he was still capable of acknowledging them . memory is also important in the sections of the novel that deal with the assassins . each recalls the\n",
      "torch.Size([32])\n",
      "basket , as well as drawing <unk> from his opponents at a high rate his 8 @ , @ 772 free throw attempts are the ninth @-@ highest total of all time\n",
      "torch.Size([32])\n",
      "them to germany as seasonal workers . the germans were especially active in the destruction of jewish culture in poland nearly all of the wooden <unk> there were destroyed . moreover ,\n",
      "torch.Size([32])\n",
      "register household cats . the two largest underground publishers were the bureau of information and propaganda of armia krajowa and the government delegation for poland . <unk> <unk> <unk> <unk> ( secret\n",
      "torch.Size([32])\n",
      ". the three heads are said to represent three essential aspects of shiva creation , protection , and destruction . the right half @-@ face ( west face ) shows him as\n",
      "torch.Size([32])\n",
      "emotional response to the attacks of september 11 , 2001 , in the united states . if the world ' s about to blow up , said townsend , let ' s\n",
      "torch.Size([32])\n",
      "eyes and appears confident but has precious little to do . although the film was a critical and commercial failure , she won the iifa award for star <unk> of the year\n",
      "torch.Size([32])\n",
      "so they could continue to perform their functions , which maintained maat in the cosmos so humans could continue to live . = = = <unk> in the human world = =\n",
      "torch.Size([32])\n",
      "born august 10 , 2011 ) . in april 2009 , fey and richmond purchased a us $ 3 @ . @ 4 million apartment on the upper west side in new\n",
      "torch.Size([32])\n",
      "place . nevertheless , after mint director patterson appeared before a congressional committee , the provision authorizing the gold dollar was deleted from the bill . = = <unk> = = in\n",
      "torch.Size([32])\n",
      "organization that sponsors autism research . in april 2008 , she participated in night of too many stars , a comedy benefit show for autism education . fey is also a supporter\n",
      "torch.Size([32])\n",
      "and finally open @-@ class ( no restrictions ) . success at national level can lead to a place in the national team and competition at international level . in 2007 the\n",
      "torch.Size([32])\n",
      "savannah on 23 november and it took him almost a month to purchase a cargo and acquire enough coal . he made one attempt to break through the blockade on 23 december\n",
      "torch.Size([32])\n",
      "can ' t we make ourselves aware . = = critical reception = = music critic robert christgau felt that carey was being too political in her brave , young , idealistic\n",
      "torch.Size([32])\n",
      "large scale commercial operations , and airfield to locations which predominantly support ga operations . the general aviation small aerodrome research study ( gasar ) analysed <unk> aerodromes in england which come\n",
      "torch.Size([32])\n",
      "cells in his body . he missed the entire 1997 – 98 nhl season as he continued to battle the disease , while his teammates wore a uniform patch with his #\n",
      "torch.Size([32])\n",
      "whitish margins . the inner spore @-@ bearing surface of the cup , the hymenium , is brick red and smooth , while the exterior surface is a dull yellow , and\n",
      "torch.Size([32])\n",
      "vs . <unk> compilation . though townsend was proud of what he had accomplished so early in his career , he was discouraged by his experience with the music industry . i\n",
      "torch.Size([32])\n",
      "real , but the entire cabral family is completely fictional . according to <unk> , vargas llosa uses history as a starting point in constructing a fictionalized account of trujillo ' s\n",
      "torch.Size([32])\n",
      "and middle eastern music . the final strapping young lad album , the new black , was released later in 2006 . = = = ziltoid the omniscient and hiatus ( 2006\n",
      "torch.Size([32])\n",
      "their own deities to egypt . these newcomers equated the egyptian gods with their own , as part of the greco @-@ roman tradition of <unk> <unk> . but the worship of\n",
      "torch.Size([32])\n",
      "1852 , and had been advocated by pettit , but guthrie ' s desire for an annular coin stalled the matter . in may 1854 , <unk> sent guthrie a letter stating\n",
      "torch.Size([32])\n",
      "level , unified . reasons for this debate include the practice of syncretism , which might suggest that all the separate gods could ultimately merge into one , and the tendency of\n",
      "torch.Size([32])\n",
      "death in 1821 , the observatory on the tower was discontinued and the instruments were moved to the observatory at the roman college . established in 1787 , it was considered more\n",
      "torch.Size([32])\n",
      ", reaching a peak late in that era . scholars disagree about the meaning of this change — whether direct interaction with the gods was a new development or an outgrowth of\n",
      "torch.Size([32])\n",
      "the novel , maría regina ruiz claims that power gives its <unk> the ability to make prohibitions prohibitions that are reflected in history , the study of which reveals what is and\n",
      "torch.Size([32])\n",
      "world championship in women ' s 4 @-@ way formation <unk> . = = <unk> = = aerodrome is a collective term for any location from which flying operations take place ,\n",
      "torch.Size([32])\n",
      "is politically active is filmed , identified , monitored , logged , and cross @-@ checked . a police <unk> into the operation at <unk> praised the deployment of fits saying that\n",
      "torch.Size([32])\n",
      "schools were closed , and those that remained open saw their <unk> altered significantly . nevertheless , underground organizations and individuals – in particular the polish underground state – saved much of\n",
      "torch.Size([32])\n",
      "be distinguished from one another by their iconographies . these forms include men and women ( <unk> ) , animals ( <unk> ) , and , more rarely , <unk> objects .\n",
      "torch.Size([32])\n",
      ". 23 used to . jordan then returned to wearing his old number in the next game , scoring 38 points in a bulls win . the bulls were fined $ 30\n",
      "torch.Size([32])\n",
      "things up by making some roster moves . the first move was the acquisition of center mark <unk> from the pittsburgh penguins . next , they traded defenseman kris russell to the\n",
      "torch.Size([32])\n",
      "the sun rays falling over it consisted of a meridian line designed by <unk> <unk> of perugia . it was in the form of a circular marble plate in the centre ,\n",
      "torch.Size([32])\n",
      "devin mentioned he is against the project being contrived due to the current hard rock undertones in popular music . he described it as a lukewarm heavy metal devin song . on\n",
      "torch.Size([32])\n",
      ". during the war , warsaw libraries lost about a million volumes , or 30 % of their collections . more than 80 % of these losses were the direct result of\n",
      "torch.Size([32])\n",
      ". the 3 @-@ hour performance was recorded in high definition and released on dvd and blu @-@ ray on september 30 , 2013 . also in 2012 , townsend played bass\n",
      "torch.Size([32])\n",
      ") and her speed was estimated at 7 – 10 knots ( 13 – 19 km / h 8 @ . @ 1 – 11 @ . @ 5 mph ) .\n",
      "torch.Size([32])\n",
      "from his generals as <unk> @-@ like <unk> and chose to seek peace with the moderate wing of the revolution . limantour had finally managed to persuade him to resign . at\n",
      "torch.Size([32])\n",
      "enemy of the german states , they could not all be disposed of immediately . it was perceived as a much more serious issue in the annexed territories , as it hindered\n",
      "torch.Size([32])\n",
      "english illustrator best known for a series of fantasy illustrations depicting fairies and flowers . barker ' s art education began in girlhood with correspondence courses and instruction at the croydon school\n",
      "torch.Size([32])\n",
      "<unk> females have a single functional ovary and uterus , on the left . litter size is one or two the newborns measure 12 – 14 cm ( 4 @ . @\n",
      "torch.Size([32])\n",
      "is a camphor @-@ derived reagent developed by <unk> aggarwal of the university of bristol . both <unk> are easily synthesized , although the yields are lower than for the <unk> reagent\n",
      "torch.Size([32])\n",
      "its right , which denotes the river ganges ' descent from shiva ' s matted locks . other carvings related to the legend of shiva are also seen in the main hall\n",
      "torch.Size([32])\n",
      "able to free herself , but the pressure of the tide pushed her back onto the <unk> . this time webb was unable to get off and the monitors closed the range\n",
      "torch.Size([32])\n",
      "after their lifetimes , and non @-@ official texts portray kings in a human light . for these reasons , scholars disagree about how genuinely most egyptians believed the king to be\n",
      "torch.Size([32])\n",
      "s got to be a way is an r & b @-@ pop music song with elements of gospel . the theme of social activism can be heard in the lyrics there\n",
      "torch.Size([32])\n",
      "which produced upwards of 36 in ( 91 cm ) of rainfall in parts of massachusetts . first observed east of the lesser antilles on 17 august , the hurricane arrived at\n",
      "torch.Size([32])\n",
      "and his wife farmed at <unk> , victoria , and cultivated orchids . they later moved to <unk> , where eaton was involved in promotional work . charles eaton died in <unk>\n",
      "torch.Size([32])\n",
      "scheme . between 1925 and 1939 around 60 flying clubs were started , and more than 5 @ , @ 000 pilots were trained . during world war ii civil aerodromes were\n",
      "torch.Size([32])\n",
      "@-@ german attitudes . = = = soviet occupation = = = after the soviet invasion of poland ( beginning 17 september 1939 ) that followed the german invasion that had marked\n",
      "torch.Size([32])\n",
      "maintain and manage the monuments . the physical measures undertaken for conservation cover include <unk> of the rock face , construction of supports to the cave structures where pillars have collapsed ,\n",
      "torch.Size([32])\n",
      "pola with her sister ship , radetzky . they were soon spotted by heavy italian ships , so the two battleships <unk> american flags and sailed south along the adriatic coast to\n",
      "torch.Size([32])\n",
      "she and her sisters were the last and largest pre @-@ dreadnought class built by the austro @-@ hungarian navy , surpassing the habsburg class by approximately 2 @ , @ 000\n",
      "torch.Size([32])\n",
      "hopes of converting it to an ironclad . dunnington was selected to head the ordnance works at little rock , and although he continued to draw his pay from the confederate navy\n",
      "torch.Size([32])\n",
      "patterson had more of gobrecht ' s pattern dollar struck to show to committee members , again advising against a coin that if issued would be only about a half inch (\n",
      "torch.Size([32])\n",
      "put faith in specific gods who they hoped would help and protect them through their lives . as a result , upholding the ideals of maat grew less important than gaining the\n",
      "torch.Size([32])\n",
      "scott ensemble . the song was released as the fifth and final single from the album in the united kingdom . it is available to purchase as a cd single while the\n",
      "torch.Size([32])\n",
      "multiple difficulty spikes , something that had affected the previous games . heath hindman of gaming website playstation <unk> praised the addition of non @-@ linear elements and improvements or removal of\n",
      "torch.Size([32])\n",
      ". metal forces reviewer gives the band credit for at least making an effort to try something new and not being afraid to experiment at such a crucial stage of their career\n",
      "torch.Size([32])\n",
      "the egyptians ' visual representations of their gods are therefore not literal . they symbolize specific aspects of each deity ' s character , functioning much like the <unk> in hieroglyphic writing\n",
      "torch.Size([32])\n",
      "to return and play out his contract in toronto . when the leafs chose not to re @-@ sign him following the 1993 – 94 season , he returned to the penguins\n",
      "torch.Size([32])\n",
      "to ga , noise is by far the most common subject . half of the 2 @ , @ 000 noise complaints made annually to the caa concern ga operations , most\n",
      "torch.Size([32])\n",
      "equipment officer , flying officer <unk> , were ordered to build up the unit as quickly as possible , and established an initial complement of fourteen officers and 120 airmen , plus\n",
      "torch.Size([32])\n",
      "the u . s . army . the land had been previously used as a racetrack by the local jockey club . john <unk> walker , a builder for the federal government\n",
      "torch.Size([32])\n",
      "initially accepted an invitation to join the canadian team at the 1991 canada cup , but subsequently chose not to participate as his contract had expired , leading to greater insurance concerns\n",
      "torch.Size([32])\n",
      "corral , resign and that de la barra , acting as interim president organize free elections as soon as possible . additionally , the treaty stipulated that an amnesty for all revolutionaries\n",
      "torch.Size([32])\n",
      "and the retention of images . = = information processing = = the information that fits collect is stored on the crimint database , which is used daily by police officers to\n",
      "torch.Size([32])\n",
      "containing the shielding tank with water and the reactor , a control room , as well as an auxiliary control room for monitoring safety parameters . the prototype reactor became critical on\n",
      "torch.Size([32])\n",
      "too small for circulation , and . . . [ is ] used almost exclusively for the purposes of ornament . the last year in which the gold dollar was struck was\n",
      "torch.Size([32])\n",
      "the insurrectionists . madero intervened personally to spare the life of the city ' s commander , gen . navarro , whom both orozco and villa wanted executed for his previous killing\n",
      "torch.Size([32])\n",
      "lightened the silver coins also authorized a gold three @-@ dollar piece , which began to be produced in 1854 . to ensure that the three @-@ dollar piece was not mistaken\n",
      "torch.Size([32])\n",
      "in 1952 , and became affiliated with fifa in 1968 . football is the most popular women ' s sport in the country , and was first played in an organized system\n",
      "torch.Size([32])\n",
      "reproductive rate , have resulted in its being assessed as near threatened by the international union for conservation of nature ( iucn ) . = 2011 – 12 columbus blue jackets season\n",
      "torch.Size([32])\n",
      "' s wife finally called team trainers and asked them to check into his illness . the team took an x @-@ ray and found a large black shadow in his chest\n",
      "torch.Size([32])\n",
      "activity . = = = private flying = = = private flying can be for both recreational purposes and personal transport , using aircraft that are owned individually , collectively as part\n",
      "torch.Size([32])\n",
      "of the observatory from 1800 to 1821 . he carried out continuous meteorological observations ( twice a day at 6 am and 2 <unk> ) conforming to the programme of the <unk>\n",
      "torch.Size([32])\n",
      "the monotheism of the <unk> <unk> sect , a sect to which kalachuris as well as konkan mauryas belonged . the chalukyas , who defeated the kalachuris as well as the konkan\n",
      "torch.Size([32])\n",
      ", german officials <unk> that the schooling of polish children would be limited to a few years of elementary education . <unk> @-@ ss heinrich <unk> wrote , in a memorandum of\n",
      "torch.Size([32])\n",
      "pilots to progress to the <unk> , where there are five classes of competition . these are based on glider performance , the lowest being club class , and then progressing through\n",
      "torch.Size([32])\n",
      "@ , @ 500 survive jerzy <unk> some 1 @ , @ 000 , of which 600 survived . = = culture in exile = = polish artists also worked abroad ,\n",
      "torch.Size([32])\n",
      "500 polish writers were declared dangerous to the german state and culture . the index of banned authors included such polish authors as adam mickiewicz , juliusz <unk> , stanisław <unk> ,\n",
      "torch.Size([32])\n",
      "album ( 1990 ) . it was written during carey and wake ' s first recording session together . they composed four songs , but only there ' s got to be\n",
      "torch.Size([32])\n",
      "hence , theatrical productions were also boycotted by the underground . in addition , actors were discouraged from performing in them and warned that they would be labeled as collaborators if they\n",
      "torch.Size([32])\n",
      "<unk> , andrzej <unk> , piotr <unk> , edmund rudnicki , eugenia <unk> , jerzy <unk> , kazimierz <unk> , maria <unk> , bolesław <unk> , mira <unk> ) performed in restaurants\n",
      "torch.Size([32])\n",
      "early in development . the character designs were done by <unk> honjou , who had worked on the previous valkyria chronicles games . when creating the nameless squad , honjou was faced\n",
      "torch.Size([32])\n",
      "for his role as egypt ' s representative to the gods , as he formed a link between the divine and human realms . the egyptians believed the gods needed temples to\n",
      "torch.Size([32])\n",
      "and police ) . = = = flying schools = = = flying schools are commercial businesses engaged in the training of pilots , both for recreational purposes and for those intending\n",
      "torch.Size([32])\n",
      ", columbus ' first @-@ round draft choice , the eighth overall , and their third @-@ round pick in the 2011 draft to the philadelphia <unk> in exchange for carter .\n"
     ]
    }
   ],
   "source": [
    "for i, x in enumerate(dataloader):\n",
    "    if i == 0:\n",
    "        for xpart in x.T:\n",
    "            print(xpart.shape)\n",
    "            print(\" \".join(vocab.lookup_tokens(xpart.tolist())))\n",
    "        # print(vocab.lookup_tokens(x.squeeze(1).tolist()))\n",
    "        break"
   ]
  },
  {
   "cell_type": "code",
   "execution_count": 29,
   "metadata": {},
   "outputs": [
    {
     "name": "stderr",
     "output_type": "stream",
     "text": [
      "100%|██████████| 916/916 [00:21<00:00, 42.38it/s]\n"
     ]
    }
   ],
   "source": [
    "from tqdm import tqdm\n",
    "\n",
    "counts = {}\n",
    "for i, x in enumerate(tqdm(dataloader)):\n",
    "    for e in x:\n",
    "        for w in e:\n",
    "            wtext = vocab.lookup_token(w.item())\n",
    "            if wtext in counts:\n",
    "                counts[wtext] += 1\n",
    "            else:\n",
    "                counts[wtext] = 1\n"
   ]
  },
  {
   "cell_type": "code",
   "execution_count": 32,
   "metadata": {},
   "outputs": [
    {
     "name": "stdout",
     "output_type": "stream",
     "text": [
      "[('the', 241704), (',', 202023), ('.', 151435), ('of', 107923), ('<unk>', 101322), ('and', 95472), ('in', 82716), ('to', 70331), ('a', 64928), ('=', 50406)]\n",
      "3750944\n"
     ]
    }
   ],
   "source": [
    "# print the 10 most common words\n",
    "print(sorted(counts.items(), key=lambda x: x[1], reverse=True)[:10])\n",
    "\n",
    "# print the total count\n",
    "print(sum(counts.values()))\n"
   ]
  },
  {
   "cell_type": "code",
   "execution_count": 6,
   "metadata": {},
   "outputs": [],
   "source": [
    "embed_dim = 768\n",
    "emb = nn.Embedding(len(vocab), embed_dim)\n",
    "model = nn.TransformerEncoder(nn.TransformerEncoderLayer(d_model=embed_dim, nhead=12, dim_feedforward=3072, dropout=0.1, activation='gelu'), num_layers=6)\n",
    "decoder = nn.Linear(embed_dim, len(vocab))"
   ]
  },
  {
   "cell_type": "code",
   "execution_count": 7,
   "metadata": {},
   "outputs": [],
   "source": [
    "out = emb(x)\n",
    "out.shape\n",
    "\n",
    "eps = model(out)\n",
    "eps.shape\n",
    "\n",
    "decoded = decoder(eps)"
   ]
  },
  {
   "cell_type": "code",
   "execution_count": 8,
   "metadata": {},
   "outputs": [
    {
     "name": "stdout",
     "output_type": "stream",
     "text": [
      "logits shape: torch.Size([32, 2, 10053])\n",
      "x shape: torch.Size([32, 2])\n",
      "tensor(9.4813, grad_fn=<NllLoss2DBackward0>)\n",
      "\n",
      "\n",
      "Indices to text:\n",
      "torch.Size([32, 2])\n",
      "walters missiles deemed matters self deemed uniform deemed takes angie millimeters wisniewski deemed airworthiness reworked functional mastering yeah elected were ministers taxon inside punk blade reworked encourage predominant generic rejected deemed assessed\n"
     ]
    }
   ],
   "source": [
    "logits = F.log_softmax(decoded, dim=-1)\n",
    "logits_permuted = logits.permute(0, 2, 1)\n",
    "indices = torch.argmax(logits, dim=-1)\n",
    "print(\"logits shape:\", logits.shape)\n",
    "print(\"x shape:\", x.shape)\n",
    "\n",
    "\n",
    "\n",
    "loss = F.cross_entropy(logits_permuted, x)\n",
    "print(loss)\n",
    "\n",
    "print(\"\\n\\nIndices to text:\")\n",
    "print(indices.shape)\n",
    "tokens = [vocab.lookup_tokens(i.tolist()) for i in indices.T]\n",
    "# print(tokens)\n",
    "sentences = [\" \".join(token) for token in tokens]\n",
    "print(sentences[0])\n",
    "# vocab.lookup_tokens(indices)\n"
   ]
  },
  {
   "cell_type": "code",
   "execution_count": null,
   "metadata": {},
   "outputs": [],
   "source": []
  }
 ],
 "metadata": {
  "kernelspec": {
   "display_name": "Python 3.10.8 64-bit",
   "language": "python",
   "name": "python3"
  },
  "language_info": {
   "codemirror_mode": {
    "name": "ipython",
    "version": 3
   },
   "file_extension": ".py",
   "mimetype": "text/x-python",
   "name": "python",
   "nbconvert_exporter": "python",
   "pygments_lexer": "ipython3",
   "version": "3.10.8"
  },
  "orig_nbformat": 4,
  "vscode": {
   "interpreter": {
    "hash": "58b3ebf8dec169d8aec70c36b552225c97668c5e5a4c1d2a670fb746efb28189"
   }
  }
 },
 "nbformat": 4,
 "nbformat_minor": 2
}
